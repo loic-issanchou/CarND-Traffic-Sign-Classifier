{
 "cells": [
  {
   "cell_type": "markdown",
   "metadata": {},
   "source": [
    "# Self-Driving Car Engineer Nanodegree\n",
    "\n",
    "## Deep Learning\n",
    "\n",
    "## Project: Build a Traffic Sign Recognition Classifier\n",
    "\n",
    "In this notebook, a template is provided for you to implement your functionality in stages, which is required to successfully complete this project. If additional code is required that cannot be included in the notebook, be sure that the Python code is successfully imported and included in your submission if necessary. \n",
    "\n",
    "> **Note**: Once you have completed all of the code implementations, you need to finalize your work by exporting the iPython Notebook as an HTML document. Before exporting the notebook to html, all of the code cells need to have been run so that reviewers can see the final implementation and output. You can then export the notebook by using the menu above and navigating to  \\n\",\n",
    "    \"**File -> Download as -> HTML (.html)**. Include the finished document along with this notebook as your submission. \n",
    "\n",
    "In addition to implementing code, there is a writeup to complete. The writeup should be completed in a separate file, which can be either a markdown file or a pdf document. There is a [write up template](https://github.com/udacity/CarND-Traffic-Sign-Classifier-Project/blob/master/writeup_template.md) that can be used to guide the writing process. Completing the code template and writeup template will cover all of the [rubric points](https://review.udacity.com/#!/rubrics/481/view) for this project.\n",
    "\n",
    "The [rubric](https://review.udacity.com/#!/rubrics/481/view) contains \"Stand Out Suggestions\" for enhancing the project beyond the minimum requirements. The stand out suggestions are optional. If you decide to pursue the \"stand out suggestions\", you can include the code in this Ipython notebook and also discuss the results in the writeup file.\n",
    "\n",
    "\n",
    ">**Note:** Code and Markdown cells can be executed using the **Shift + Enter** keyboard shortcut. In addition, Markdown cells can be edited by typically double-clicking the cell to enter edit mode."
   ]
  },
  {
   "cell_type": "markdown",
   "metadata": {},
   "source": [
    "---\n",
    "## Step 0: Load The Data"
   ]
  },
  {
   "cell_type": "code",
   "execution_count": 1,
   "metadata": {
    "collapsed": true
   },
   "outputs": [],
   "source": [
    "# Load pickled data\n",
    "import pickle\n",
    "\n",
    "# TODO: Fill this in based on where you saved the training and testing data\n",
    "\n",
    "training_file = 'train.p'\n",
    "validation_file= 'valid.p'\n",
    "testing_file = 'test.p'\n",
    "                      \n",
    "with open(training_file, mode='rb') as f:\n",
    "    train = pickle.load(f)\n",
    "with open(validation_file, mode='rb') as f:\n",
    "    valid = pickle.load(f)\n",
    "with open(testing_file, mode='rb') as f:\n",
    "    test = pickle.load(f)\n",
    "    \n",
    "X_train, y_train = train['features'], train['labels']\n",
    "X_valid, y_valid = valid['features'], valid['labels']\n",
    "X_test, y_test = test['features'], test['labels']"
   ]
  },
  {
   "cell_type": "markdown",
   "metadata": {},
   "source": [
    "---\n",
    "\n",
    "## Step 1: Dataset Summary & Exploration\n",
    "\n",
    "The pickled data is a dictionary with 4 key/value pairs:\n",
    "\n",
    "- `'features'` is a 4D array containing raw pixel data of the traffic sign images, (num examples, width, height, channels).\n",
    "- `'labels'` is a 1D array containing the label/class id of the traffic sign. The file `signnames.csv` contains id -> name mappings for each id.\n",
    "- `'sizes'` is a list containing tuples, (width, height) representing the original width and height the image.\n",
    "- `'coords'` is a list containing tuples, (x1, y1, x2, y2) representing coordinates of a bounding box around the sign in the image. **THESE COORDINATES ASSUME THE ORIGINAL IMAGE. THE PICKLED DATA CONTAINS RESIZED VERSIONS (32 by 32) OF THESE IMAGES**\n",
    "\n",
    "Complete the basic data summary below. Use python, numpy and/or pandas methods to calculate the data summary rather than hard coding the results. For example, the [pandas shape method](http://pandas.pydata.org/pandas-docs/stable/generated/pandas.DataFrame.shape.html) might be useful for calculating some of the summary results. "
   ]
  },
  {
   "cell_type": "markdown",
   "metadata": {},
   "source": [
    "### Provide a Basic Summary of the Data Set Using Python, Numpy and/or Pandas"
   ]
  },
  {
   "cell_type": "code",
   "execution_count": 2,
   "metadata": {},
   "outputs": [
    {
     "name": "stdout",
     "output_type": "stream",
     "text": [
      "Number of training examples = 34799\n",
      "Number of testing examples = 12630\n",
      "Image data shape = (32, 32, 3)\n",
      "Number of classes = 43\n"
     ]
    }
   ],
   "source": [
    "### Replace each question mark with the appropriate value. \n",
    "### Use python, pandas or numpy methods rather than hard coding the results\n",
    "\n",
    "# TODO: Number of training examples\n",
    "n_train = X_train.shape[0]\n",
    "\n",
    "# TODO: Number of validation examples\n",
    "n_validation = X_valid.shape[0]\n",
    "\n",
    "# TODO: Number of testing examples.\n",
    "n_test = X_test.shape[0]\n",
    "\n",
    "# TODO: What's the shape of an traffic sign image?\n",
    "image_shape = X_train[0].shape\n",
    "\n",
    "# TODO: How many unique classes/labels there are in the dataset.\n",
    "b = []\n",
    "for i in y_train:\n",
    "    if i not in b:\n",
    "        b.append(i)\n",
    "n_classes = len(b)\n",
    "\n",
    "print(\"Number of training examples =\", n_train)\n",
    "print(\"Number of testing examples =\", n_test)\n",
    "print(\"Image data shape =\", image_shape)\n",
    "print(\"Number of classes =\", n_classes)"
   ]
  },
  {
   "cell_type": "markdown",
   "metadata": {},
   "source": [
    "### Include an exploratory visualization of the dataset"
   ]
  },
  {
   "cell_type": "markdown",
   "metadata": {},
   "source": [
    "Visualize the German Traffic Signs Dataset using the pickled file(s). This is open ended, suggestions include: plotting traffic sign images, plotting the count of each sign, etc. \n",
    "\n",
    "The [Matplotlib](http://matplotlib.org/) [examples](http://matplotlib.org/examples/index.html) and [gallery](http://matplotlib.org/gallery.html) pages are a great resource for doing visualizations in Python.\n",
    "\n",
    "**NOTE:** It's recommended you start with something simple first. If you wish to do more, come back to it after you've completed the rest of the sections. It can be interesting to look at the distribution of classes in the training, validation and test set. Is the distribution the same? Are there more examples of some classes than others?"
   ]
  },
  {
   "cell_type": "code",
   "execution_count": 3,
   "metadata": {},
   "outputs": [
    {
     "data": {
      "image/png": "[encoded data removed]",
      "text/plain": [
       "<matplotlib.figure.Figure at 0x7464320>"
      ]
     },
     "metadata": {},
     "output_type": "display_data"
    },
    {
     "data": {
      "image/png": "[encoded data removed]",
      "text/plain": [
       "<matplotlib.figure.Figure at 0x17ba6dd8>"
      ]
     },
     "metadata": {},
     "output_type": "display_data"
    },
    {
     "data": {
      "image/png": "[encoded data removed]",
      "text/plain": [
       "<matplotlib.figure.Figure at 0x17c0ef60>"
      ]
     },
     "metadata": {},
     "output_type": "display_data"
    }
   ],
   "source": [
    "### Data exploration visualization code goes here.\n",
    "### Feel free to use as many code cells as needed.\n",
    "import numpy as np\n",
    "import matplotlib.pyplot as plt\n",
    "import matplotlib.cbook as cbook\n",
    "import matplotlib.patches as patches\n",
    "import matplotlib.path as path\n",
    "\n",
    "# Visualizations will be shown in the notebook.\n",
    "%matplotlib inline\n",
    "\n",
    "def visu_histo(data, nb):\n",
    "    \"\"\"\n",
    "    Plot histogram to show the count of each sign in the training data set, the validation data set and the test data set.\n",
    "    Code import from : http://matplotlib.org/examples/api/histogram_path_demo.html\n",
    "    \"\"\"\n",
    "    fig, ax = plt.subplots()\n",
    "    \n",
    "    # histogram our data with numpy\n",
    "    \n",
    "    n, bins = np.histogram(data, 50)\n",
    "\n",
    "    # get the corners of the rectangles for the histogram\n",
    "    left = np.array(bins[:-1])\n",
    "    right = np.array(bins[1:])\n",
    "    bottom = np.zeros(len(left))\n",
    "    top = bottom + n\n",
    "\n",
    "\n",
    "    # we need a (numrects x numsides x 2) numpy array for the path helper\n",
    "    # function to build a compound path\n",
    "    XY = np.array([[left, left, right, right], [bottom, top, top, bottom]]).T\n",
    "\n",
    "    # get the Path object\n",
    "    barpath = path.Path.make_compound_path_from_polys(XY)\n",
    "\n",
    "    # make a patch out of it\n",
    "    patch = patches.PathPatch(barpath)\n",
    "    ax.add_patch(patch)\n",
    "\n",
    "    # update the view limits\n",
    "    ax.set_xlim(left[0], right[-1])\n",
    "    ax.set_ylim(bottom.min(), top.max())\n",
    "\n",
    "    title = ['Count of each sign of the training data set','Count of each sign of the validation data set','Count of each sign of the test data set']\n",
    "\n",
    "    plt.title(title[nb])\n",
    "    plt.show()\n",
    "\n",
    "### Plotting the count of each sign of the training data set.\n",
    "data_train = y_train\n",
    "visu_histo(data_train, 0)\n",
    "\n",
    "### Plotting the count of each sign of the training data set.\n",
    "data_valid = y_valid\n",
    "visu_histo(data_valid, 1)\n",
    "           \n",
    "### Plotting the count of each sign of the training data set.\n",
    "data_test = y_test\n",
    "visu_histo(data_test, 2)\n",
    "\n",
    "def visu_rgb(image):\n",
    "    \"\"\"\n",
    "    Print color image to visualize the result.\n",
    "    \"\"\"\n",
    "    image = image.squeeze()\n",
    "    \n",
    "    plt.figure(figsize=(2,2))\n",
    "    plt.imshow(image)\n",
    "\n",
    "def visu_gray(image):\n",
    "    \"\"\"\n",
    "    Print grayscale image to visualize the result.\n",
    "    \"\"\"\n",
    "    image = image.squeeze()\n",
    "    \n",
    "    plt.figure(figsize=(2,2))\n",
    "    plt.imshow(image, cmap='gray')"
   ]
  },
  {
   "cell_type": "markdown",
   "metadata": {},
   "source": [
    "----\n",
    "\n",
    "## Step 2: Design and Test a Model Architecture\n",
    "\n",
    "Design and implement a deep learning model that learns to recognize traffic signs. Train and test your model on the [German Traffic Sign Dataset](http://benchmark.ini.rub.de/?section=gtsrb&subsection=dataset).\n",
    "\n",
    "The LeNet-5 implementation shown in the [classroom](https://classroom.udacity.com/nanodegrees/nd013/parts/fbf77062-5703-404e-b60c-95b78b2f3f9e/modules/6df7ae49-c61c-4bb2-a23e-6527e69209ec/lessons/601ae704-1035-4287-8b11-e2c2716217ad/concepts/d4aca031-508f-4e0b-b493-e7b706120f81) at the end of the CNN lesson is a solid starting point. You'll have to change the number of classes and possibly the preprocessing, but aside from that it's plug and play! \n",
    "\n",
    "With the LeNet-5 solution from the lecture, you should expect a validation set accuracy of about 0.89. To meet specifications, the validation set accuracy will need to be at least 0.93. It is possible to get an even higher accuracy, but 0.93 is the minimum for a successful project submission. \n",
    "\n",
    "There are various aspects to consider when thinking about this problem:\n",
    "\n",
    "- Neural network architecture (is the network over or underfitting?)\n",
    "- Play around preprocessing techniques (normalization, rgb to grayscale, etc)\n",
    "- Number of examples per label (some have more than others).\n",
    "- Generate fake data.\n",
    "\n",
    "Here is an example of a [published baseline model on this problem](http://yann.lecun.com/exdb/publis/pdf/sermanet-ijcnn-11.pdf). It's not required to be familiar with the approach used in the paper but, it's good practice to try to read papers like these."
   ]
  },
  {
   "cell_type": "markdown",
   "metadata": {},
   "source": [
    "### Pre-process the Data Set (normalization, grayscale, etc.)"
   ]
  },
  {
   "cell_type": "markdown",
   "metadata": {},
   "source": [
    "Minimally, the image data should be normalized so that the data has mean zero and equal variance. For image data, `(pixel - 128)/ 128` is a quick way to approximately normalize the data and can be used in this project. \n",
    "\n",
    "Other pre-processing steps are optional. You can try different techniques to see if it improves performance. \n",
    "\n",
    "Use the code cell (or multiple code cells, if necessary) to implement the first step of your project."
   ]
  },
  {
   "cell_type": "code",
   "execution_count": 4,
   "metadata": {},
   "outputs": [
    {
     "name": "stderr",
     "output_type": "stream",
     "text": [
      "C:\\ProgramData\\Anaconda3\\lib\\site-packages\\ipykernel\\__main__.py:24: DeprecationWarning: Both axis > a.ndim and axis < -a.ndim - 1 are deprecated and will raise an AxisError in the future.\n"
     ]
    },
    {
     "data": {
      "image/png": "[encoded data removed]",
      "text/plain": [
       "<matplotlib.figure.Figure at 0x18550be0>"
      ]
     },
     "metadata": {},
     "output_type": "display_data"
    },
    {
     "data": {
      "image/png": "[encoded data removed]",
      "text/plain": [
       "<matplotlib.figure.Figure at 0x17c5b160>"
      ]
     },
     "metadata": {},
     "output_type": "display_data"
    }
   ],
   "source": [
    "### Preprocess the data here. It is required to normalize the data. Other preprocessing steps could include \n",
    "### converting to grayscale, etc.\n",
    "### Feel free to use as many code cells as needed.\n",
    "\n",
    "import random\n",
    "import matplotlib.image as mpimg\n",
    "from sklearn.utils import shuffle\n",
    "\n",
    "index = random.randint(0, len(X_train))\n",
    "\n",
    "### Grayscale the image\n",
    "def rgb2gray(rgb):\n",
    "    \"\"\"\n",
    "    Convert RGB image to grayscale\n",
    "    :param rgb: The image data to be grayscale\n",
    "    :return: Grayscale image data\n",
    "    \"\"\" \n",
    "    gray = np.zeros((rgb.shape[0],32,32,1), dtype=float)\n",
    "    \n",
    "    for nb in range(rgb.shape[0]):\n",
    "        image = rgb[nb,...]\n",
    "        new_image = np.zeros((32,32,1), dtype=float)\n",
    "        new_image = np.dot(image[...,:3], [0.299, 0.587, 0.114])\n",
    "        new_image = np.expand_dims(new_image, axis=3)\n",
    "        gray[nb,...] = new_image\n",
    "    \n",
    "    return gray\n",
    "        \n",
    "\n",
    "### Normalize the image so that the data has mean zero and equal variance.\n",
    "def normalize_grayscale(image):\n",
    "    \"\"\"\n",
    "    Normalize the image data\n",
    "    :param image: The image data to be normalized\n",
    "    :return: Normalized image data\n",
    "    \"\"\"\n",
    "    image = (image - 128) / 128\n",
    "    return image\n",
    "\n",
    "### Shuffle the data\n",
    "X_train, y_train = shuffle(X_train, y_train)\n",
    "X_valid, y_valid = shuffle(X_valid, y_valid)\n",
    "X_test, y_test = shuffle(X_test, y_test)\n",
    "\n",
    "\n",
    "visu_rgb(X_train[index])\n",
    "\n",
    "\n",
    "X_train = normalize_grayscale(rgb2gray(X_train))\n",
    "\n",
    "X_valid = normalize_grayscale(rgb2gray(X_valid))\n",
    "\n",
    "X_test = normalize_grayscale(rgb2gray(X_test))\n",
    "\n",
    "visu_gray(X_train[index])"
   ]
  },
  {
   "cell_type": "markdown",
   "metadata": {},
   "source": [
    "### Model Architecture"
   ]
  },
  {
   "cell_type": "code",
   "execution_count": 5,
   "metadata": {
    "collapsed": true
   },
   "outputs": [],
   "source": [
    "### Define your architecture here.\n",
    "### Feel free to use as many code cells as needed.\n",
    "\n",
    "from tensorflow.contrib.layers import flatten\n",
    "\n",
    "def LeNet(x):    \n",
    "    # Hyperparameters\n",
    "    mu = 0\n",
    "    sigma = .1\n",
    "\n",
    "    # SOLUTION: Layer 1: Convolutional. Input = 32x32x1. Output = 28x28x6.\n",
    "    conv1_W = tf.Variable(tf.truncated_normal(shape=(5, 5, 1, 6), mean = mu, stddev = sigma))\n",
    "    conv1_b = tf.Variable(tf.zeros(6))\n",
    "    conv1   = tf.nn.conv2d(x, conv1_W, strides=[1, 1, 1, 1], padding='VALID') + conv1_b\n",
    "\n",
    "    # SOLUTION: Activation.\n",
    "    conv1 = tf.nn.relu(conv1)\n",
    "\n",
    "    # SOLUTION: Pooling. Input = 28x28x6. Output = 14x14x6.\n",
    "    conv1 = tf.nn.max_pool(conv1, ksize=[1, 2, 2, 1], strides=[1, 2, 2, 1], padding='VALID')\n",
    "\n",
    "    # SOLUTION: Layer 2: Convolutional. Output = 10x10x16.\n",
    "    conv2_W = tf.Variable(tf.truncated_normal(shape=(5, 5, 6, 16), mean = mu, stddev = sigma))\n",
    "    conv2_b = tf.Variable(tf.zeros(16))\n",
    "    conv2   = tf.nn.conv2d(conv1, conv2_W, strides=[1, 1, 1, 1], padding='VALID') + conv2_b\n",
    "\n",
    "    # SOLUTION: Activation.\n",
    "    conv2 = tf.nn.relu(conv2)\n",
    "\n",
    "    # SOLUTION: Pooling. Input = 10x10x16. Output = 5x5x16.\n",
    "    conv2 = tf.nn.max_pool(conv2, ksize=[1, 2, 2, 1], strides=[1, 2, 2, 1], padding='VALID')\n",
    "\n",
    "    # SOLUTION: Flatten. Input = 5x5x16. Output = 400.\n",
    "    fc0   = flatten(conv2)\n",
    "    fc0   = tf.nn.dropout(fc0, keep_prob)\n",
    "    \n",
    "    # SOLUTION: Layer 3: Fully Connected. Input = 400. Output = 120.\n",
    "    fc1_W = tf.Variable(tf.truncated_normal(shape=(400, 120), mean = mu, stddev = sigma))\n",
    "    fc1_b = tf.Variable(tf.zeros(120))\n",
    "    fc1   = tf.matmul(fc0, fc1_W) + fc1_b\n",
    "\n",
    "    # SOLUTION: Activation.\n",
    "    fc1    = tf.nn.relu(fc1)\n",
    "    fc1    = tf.nn.dropout(fc1, keep_prob)\n",
    "\n",
    "    # SOLUTION: Layer 4: Fully Connected. Input = 120. Output = 84.\n",
    "    fc2_W  = tf.Variable(tf.truncated_normal(shape=(120, 84), mean = mu, stddev = sigma))\n",
    "    fc2_b  = tf.Variable(tf.zeros(84))\n",
    "    fc2    = tf.matmul(fc1, fc2_W) + fc2_b\n",
    "\n",
    "    # SOLUTION: Activation.\n",
    "    fc2    = tf.nn.relu(fc2)\n",
    "    fc2    = tf.nn.dropout(fc2, keep_prob)\n",
    "\n",
    "    # SOLUTION: Layer 5: Fully Connected. Input = 84. Output = 43.\n",
    "    fc3_W  = tf.Variable(tf.truncated_normal(shape=(84, 43), mean = mu, stddev = sigma))\n",
    "    fc3_b  = tf.Variable(tf.zeros(43))\n",
    "    logits = tf.matmul(fc2, fc3_W) + fc3_b\n",
    "\n",
    "    return logits"
   ]
  },
  {
   "cell_type": "markdown",
   "metadata": {},
   "source": [
    "### Train, Validate and Test the Model"
   ]
  },
  {
   "cell_type": "markdown",
   "metadata": {},
   "source": [
    "A validation set can be used to assess how well the model is performing. A low accuracy on the training and validation\n",
    "sets imply underfitting. A high accuracy on the training set but low accuracy on the validation set implies overfitting."
   ]
  },
  {
   "cell_type": "code",
   "execution_count": 6,
   "metadata": {
    "collapsed": true
   },
   "outputs": [],
   "source": [
    "### Train your model here.\n",
    "### Calculate and report the accuracy on the training and validation set.\n",
    "### Once a final model architecture is selected, \n",
    "### the accuracy on the test set should be calculated and reported as well.\n",
    "### Feel free to use as many code cells as needed.\n",
    "import tensorflow as tf\n",
    "\n",
    "EPOCHS = 50\n",
    "BATCH_SIZE = 100\n",
    "\n",
    "x = tf.placeholder(tf.float32, (None, 32, 32, 1))\n",
    "y = tf.placeholder(tf.int32, (None))\n",
    "one_hot_y = tf.one_hot(y, 43)\n",
    "keep_prob = tf.placeholder(tf.float32)"
   ]
  },
  {
   "cell_type": "code",
   "execution_count": 7,
   "metadata": {
    "collapsed": true
   },
   "outputs": [],
   "source": [
    "rate = 0.001\n",
    "\n",
    "logits = LeNet(x)\n",
    "cross_entropy = tf.nn.softmax_cross_entropy_with_logits(labels=one_hot_y, logits=logits)\n",
    "loss_operation = tf.reduce_mean(cross_entropy)\n",
    "optimizer = tf.train.AdamOptimizer(learning_rate = rate)\n",
    "training_operation = optimizer.minimize(loss_operation)"
   ]
  },
  {
   "cell_type": "code",
   "execution_count": 8,
   "metadata": {
    "collapsed": true
   },
   "outputs": [],
   "source": [
    "correct_prediction = tf.equal(tf.argmax(logits, 1), tf.argmax(one_hot_y, 1))\n",
    "accuracy_operation = tf.reduce_mean(tf.cast(correct_prediction, tf.float32))\n",
    "saver = tf.train.Saver()\n",
    "\n",
    "def evaluate(X_data, y_data):\n",
    "    num_examples = len(X_data)\n",
    "    total_accuracy = 0\n",
    "    sess = tf.get_default_session()\n",
    "    for offset in range(0, num_examples, BATCH_SIZE):\n",
    "        batch_x, batch_y = X_data[offset:offset+BATCH_SIZE], y_data[offset:offset+BATCH_SIZE]\n",
    "        accuracy = sess.run(accuracy_operation, feed_dict={x: batch_x, y: batch_y, keep_prob: 1.0})\n",
    "        total_accuracy += (accuracy * len(batch_x))\n",
    "    return total_accuracy / num_examples"
   ]
  },
  {
   "cell_type": "code",
   "execution_count": 9,
   "metadata": {},
   "outputs": [
    {
     "name": "stdout",
     "output_type": "stream",
     "text": [
      "Training...\n",
      "\n",
      "EPOCH 1 ...\n",
      "Training Accuracy = 0.532\n",
      "Validation Accuracy = 0.502\n",
      "\n",
      "EPOCH 2 ...\n",
      "Training Accuracy = 0.693\n",
      "Validation Accuracy = 0.651\n",
      "\n",
      "EPOCH 3 ...\n",
      "Training Accuracy = 0.807\n",
      "Validation Accuracy = 0.763\n",
      "\n",
      "EPOCH 4 ...\n",
      "Training Accuracy = 0.845\n",
      "Validation Accuracy = 0.800\n",
      "\n",
      "EPOCH 5 ...\n",
      "Training Accuracy = 0.894\n",
      "Validation Accuracy = 0.840\n",
      "\n",
      "EPOCH 6 ...\n",
      "Training Accuracy = 0.906\n",
      "Validation Accuracy = 0.849\n",
      "\n",
      "EPOCH 7 ...\n",
      "Training Accuracy = 0.922\n",
      "Validation Accuracy = 0.873\n",
      "\n",
      "EPOCH 8 ...\n",
      "Training Accuracy = 0.933\n",
      "Validation Accuracy = 0.895\n",
      "\n",
      "EPOCH 9 ...\n",
      "Training Accuracy = 0.934\n",
      "Validation Accuracy = 0.893\n",
      "\n",
      "EPOCH 10 ...\n",
      "Training Accuracy = 0.951\n",
      "Validation Accuracy = 0.918\n",
      "\n",
      "EPOCH 11 ...\n",
      "Training Accuracy = 0.955\n",
      "Validation Accuracy = 0.922\n",
      "\n",
      "EPOCH 12 ...\n",
      "Training Accuracy = 0.958\n",
      "Validation Accuracy = 0.924\n",
      "\n",
      "EPOCH 13 ...\n",
      "Training Accuracy = 0.960\n",
      "Validation Accuracy = 0.929\n",
      "\n",
      "EPOCH 14 ...\n",
      "Training Accuracy = 0.959\n",
      "Validation Accuracy = 0.919\n",
      "\n",
      "EPOCH 15 ...\n",
      "Training Accuracy = 0.963\n",
      "Validation Accuracy = 0.932\n",
      "\n",
      "EPOCH 16 ...\n",
      "Training Accuracy = 0.964\n",
      "Validation Accuracy = 0.932\n",
      "\n",
      "EPOCH 17 ...\n",
      "Training Accuracy = 0.967\n",
      "Validation Accuracy = 0.928\n",
      "\n",
      "EPOCH 18 ...\n",
      "Training Accuracy = 0.967\n",
      "Validation Accuracy = 0.937\n",
      "\n",
      "EPOCH 19 ...\n",
      "Training Accuracy = 0.974\n",
      "Validation Accuracy = 0.937\n",
      "\n",
      "EPOCH 20 ...\n",
      "Training Accuracy = 0.975\n",
      "Validation Accuracy = 0.941\n",
      "\n",
      "EPOCH 21 ...\n",
      "Training Accuracy = 0.974\n",
      "Validation Accuracy = 0.944\n",
      "\n",
      "EPOCH 22 ...\n",
      "Training Accuracy = 0.978\n",
      "Validation Accuracy = 0.944\n",
      "\n",
      "EPOCH 23 ...\n",
      "Training Accuracy = 0.977\n",
      "Validation Accuracy = 0.943\n",
      "\n",
      "EPOCH 24 ...\n",
      "Training Accuracy = 0.976\n",
      "Validation Accuracy = 0.943\n",
      "\n",
      "EPOCH 25 ...\n",
      "Training Accuracy = 0.978\n",
      "Validation Accuracy = 0.937\n",
      "\n",
      "EPOCH 26 ...\n",
      "Training Accuracy = 0.982\n",
      "Validation Accuracy = 0.948\n",
      "\n",
      "EPOCH 27 ...\n",
      "Training Accuracy = 0.978\n",
      "Validation Accuracy = 0.949\n",
      "\n",
      "EPOCH 28 ...\n",
      "Training Accuracy = 0.980\n",
      "Validation Accuracy = 0.951\n",
      "\n",
      "EPOCH 29 ...\n",
      "Training Accuracy = 0.983\n",
      "Validation Accuracy = 0.953\n",
      "\n",
      "EPOCH 30 ...\n",
      "Training Accuracy = 0.981\n",
      "Validation Accuracy = 0.944\n",
      "\n",
      "EPOCH 31 ...\n",
      "Training Accuracy = 0.983\n",
      "Validation Accuracy = 0.953\n",
      "\n",
      "EPOCH 32 ...\n",
      "Training Accuracy = 0.984\n",
      "Validation Accuracy = 0.953\n",
      "\n",
      "EPOCH 33 ...\n",
      "Training Accuracy = 0.984\n",
      "Validation Accuracy = 0.954\n",
      "\n",
      "EPOCH 34 ...\n",
      "Training Accuracy = 0.983\n",
      "Validation Accuracy = 0.953\n",
      "\n",
      "EPOCH 35 ...\n",
      "Training Accuracy = 0.984\n",
      "Validation Accuracy = 0.952\n",
      "\n",
      "EPOCH 36 ...\n",
      "Training Accuracy = 0.987\n",
      "Validation Accuracy = 0.959\n",
      "\n",
      "EPOCH 37 ...\n",
      "Training Accuracy = 0.988\n",
      "Validation Accuracy = 0.963\n",
      "\n",
      "EPOCH 38 ...\n",
      "Training Accuracy = 0.987\n",
      "Validation Accuracy = 0.956\n",
      "\n",
      "EPOCH 39 ...\n",
      "Training Accuracy = 0.987\n",
      "Validation Accuracy = 0.957\n",
      "\n",
      "EPOCH 40 ...\n",
      "Training Accuracy = 0.988\n",
      "Validation Accuracy = 0.957\n",
      "\n",
      "EPOCH 41 ...\n",
      "Training Accuracy = 0.987\n",
      "Validation Accuracy = 0.959\n",
      "\n",
      "EPOCH 42 ...\n",
      "Training Accuracy = 0.989\n",
      "Validation Accuracy = 0.960\n",
      "\n",
      "EPOCH 43 ...\n",
      "Training Accuracy = 0.990\n",
      "Validation Accuracy = 0.966\n",
      "\n",
      "EPOCH 44 ...\n",
      "Training Accuracy = 0.990\n",
      "Validation Accuracy = 0.958\n",
      "\n",
      "EPOCH 45 ...\n",
      "Training Accuracy = 0.985\n",
      "Validation Accuracy = 0.953\n",
      "\n",
      "EPOCH 46 ...\n",
      "Training Accuracy = 0.990\n",
      "Validation Accuracy = 0.961\n",
      "\n",
      "EPOCH 47 ...\n",
      "Training Accuracy = 0.990\n",
      "Validation Accuracy = 0.959\n",
      "\n",
      "EPOCH 48 ...\n",
      "Training Accuracy = 0.990\n",
      "Validation Accuracy = 0.958\n",
      "\n",
      "EPOCH 49 ...\n",
      "Training Accuracy = 0.989\n",
      "Validation Accuracy = 0.955\n",
      "\n",
      "EPOCH 50 ...\n",
      "Training Accuracy = 0.990\n",
      "Validation Accuracy = 0.964\n",
      "\n",
      "Model saved\n"
     ]
    }
   ],
   "source": [
    "with tf.Session() as sess:\n",
    "    sess.run(tf.global_variables_initializer())\n",
    "    num_examples = len(X_train)\n",
    "    \n",
    "    print(\"Training...\")\n",
    "    print()\n",
    "    for i in range(EPOCHS):\n",
    "        X_train, y_train = shuffle(X_train, y_train)\n",
    "        for offset in range(0, num_examples, BATCH_SIZE):\n",
    "            end = offset + BATCH_SIZE\n",
    "            batch_x, batch_y = X_train[offset:end], y_train[offset:end]\n",
    "            sess.run(training_operation, feed_dict={x: batch_x, y: batch_y, keep_prob: 0.5})\n",
    "        \n",
    "        training_accuracy = evaluate(X_train, y_train)\n",
    "        validation_accuracy = evaluate(X_valid, y_valid)\n",
    "        print(\"EPOCH {} ...\".format(i+1))\n",
    "        print(\"Training Accuracy = {:.3f}\".format(training_accuracy))\n",
    "        print(\"Validation Accuracy = {:.3f}\".format(validation_accuracy))\n",
    "        print()\n",
    "        \n",
    "    saver.save(sess, './lenet')\n",
    "    print(\"Model saved\")"
   ]
  },
  {
   "cell_type": "code",
   "execution_count": 10,
   "metadata": {},
   "outputs": [
    {
     "name": "stdout",
     "output_type": "stream",
     "text": [
      "INFO:tensorflow:Restoring parameters from ./lenet\n",
      "Test Accuracy = 0.949\n",
      "\n"
     ]
    }
   ],
   "source": [
    "with tf.Session() as sess:\n",
    "    sess.run(tf.global_variables_initializer())\n",
    "    saver_load = tf.train.import_meta_graph('./lenet.meta')\n",
    "    saver_load.restore(sess, \"./lenet\")\n",
    "    test_accuracy = evaluate(X_test, y_test)\n",
    "    print(\"Test Accuracy = {:.3f}\".format(test_accuracy))\n",
    "    print()"
   ]
  },
  {
   "cell_type": "markdown",
   "metadata": {},
   "source": [
    "---\n",
    "\n",
    "## Step 3: Test a Model on New Images\n",
    "\n",
    "To give yourself more insight into how your model is working, download at least five pictures of German traffic signs from the web and use your model to predict the traffic sign type.\n",
    "\n",
    "You may find `signnames.csv` useful as it contains mappings from the class id (integer) to the actual sign name."
   ]
  },
  {
   "cell_type": "markdown",
   "metadata": {},
   "source": [
    "### Load and Output the Images"
   ]
  },
  {
   "cell_type": "code",
   "execution_count": 11,
   "metadata": {},
   "outputs": [
    {
     "name": "stdout",
     "output_type": "stream",
     "text": [
      "(5, 32, 32, 3)\n"
     ]
    },
    {
     "data": {
      "image/png": "[encoded data removed]",
      "text/plain": [
       "<matplotlib.figure.Figure at 0x2bca0f0>"
      ]
     },
     "metadata": {},
     "output_type": "display_data"
    },
    {
     "data": {
      "image/png": "[encoded data removed]",
      "text/plain": [
       "<matplotlib.figure.Figure at 0x2c3a3b00>"
      ]
     },
     "metadata": {},
     "output_type": "display_data"
    },
    {
     "data": {
      "image/png": "[encoded data removed]",
      "text/plain": [
       "<matplotlib.figure.Figure at 0x2d1a6208>"
      ]
     },
     "metadata": {},
     "output_type": "display_data"
    },
    {
     "data": {
      "image/png": "[encoded data removed]",
      "text/plain": [
       "<matplotlib.figure.Figure at 0x2c728780>"
      ]
     },
     "metadata": {},
     "output_type": "display_data"
    },
    {
     "data": {
      "image/png": "[encoded data removed]",
      "text/plain": [
       "<matplotlib.figure.Figure at 0x2cc68ac8>"
      ]
     },
     "metadata": {},
     "output_type": "display_data"
    }
   ],
   "source": [
    "### Load the images and plot them here.\n",
    "### Feel free to use as many code cells as needed.\n",
    "import cv2\n",
    "\n",
    "### Load the 5 images\n",
    "img_1 = cv2.imread('images_web\\img_1.png')\n",
    "img_2 = cv2.imread('images_web\\img_2.png')\n",
    "img_3 = cv2.imread('images_web\\img_3.png')\n",
    "img_4 = cv2.imread('images_web\\img_4.png')\n",
    "img_5 = cv2.imread('images_web\\img_5.png')\n",
    "\n",
    "### Resize images to (32,32,3) shape\n",
    "img_1 = img_1[...,:3]\n",
    "img_2 = img_2[...,:3]\n",
    "img_3 = img_3[...,:3]\n",
    "img_4 = img_4[...,:3]\n",
    "img_5 = img_5[...,:3]\n",
    "\n",
    "### Create new test data \n",
    "X_test_web_img = np.zeros((5,32,32,3), dtype=float)\n",
    "X_test_web_img[0,...] = img_1\n",
    "X_test_web_img[1,...] = img_2\n",
    "X_test_web_img[2,...] = img_3\n",
    "X_test_web_img[3,...] = img_4\n",
    "X_test_web_img[4,...] = img_5\n",
    "print(X_test_web_img.shape)\n",
    "\n",
    "### Visualize these images before pre-process\n",
    "image = mpimg.imread('images_web\\img_1.png')\n",
    "visu_rgb(image)\n",
    "image = mpimg.imread('images_web\\img_2.png')\n",
    "visu_rgb(image)\n",
    "image = mpimg.imread('images_web\\img_3.png')\n",
    "visu_rgb(image)\n",
    "image = mpimg.imread('images_web\\img_4.png')\n",
    "visu_rgb(image)\n",
    "image = mpimg.imread('images_web\\img_5.png')\n",
    "visu_rgb(image)"
   ]
  },
  {
   "cell_type": "markdown",
   "metadata": {},
   "source": [
    "### Predict the Sign Type for Each Image"
   ]
  },
  {
   "cell_type": "code",
   "execution_count": 12,
   "metadata": {},
   "outputs": [
    {
     "name": "stderr",
     "output_type": "stream",
     "text": [
      "C:\\ProgramData\\Anaconda3\\lib\\site-packages\\ipykernel\\__main__.py:24: DeprecationWarning: Both axis > a.ndim and axis < -a.ndim - 1 are deprecated and will raise an AxisError in the future.\n"
     ]
    },
    {
     "name": "stdout",
     "output_type": "stream",
     "text": [
      "(5, 32, 32, 1)\n"
     ]
    },
    {
     "data": {
      "image/png": "[encoded data removed]",
      "text/plain": [
       "<matplotlib.figure.Figure at 0x5594c18>"
      ]
     },
     "metadata": {},
     "output_type": "display_data"
    },
    {
     "data": {
      "image/png": "[encoded data removed]",
      "text/plain": [
       "<matplotlib.figure.Figure at 0x2a8766d8>"
      ]
     },
     "metadata": {},
     "output_type": "display_data"
    },
    {
     "data": {
      "image/png": "[encoded data removed]",
      "text/plain": [
       "<matplotlib.figure.Figure at 0x2a8deb38>"
      ]
     },
     "metadata": {},
     "output_type": "display_data"
    },
    {
     "data": {
      "image/png": "[encoded data removed]",
      "text/plain": [
       "<matplotlib.figure.Figure at 0x2a954668>"
      ]
     },
     "metadata": {},
     "output_type": "display_data"
    },
    {
     "data": {
      "image/png": "[encoded data removed]",
      "text/plain": [
       "<matplotlib.figure.Figure at 0x2a9c0240>"
      ]
     },
     "metadata": {},
     "output_type": "display_data"
    }
   ],
   "source": [
    "### Run the predictions here and use the model to output the prediction for each image.\n",
    "### Make sure to pre-process the images with the same pre-processing pipeline used earlier.\n",
    "### Feel free to use as many code cells as needed.\n",
    "\n",
    "### Pre-process (pp) images\n",
    "X_test_web_img_pp = normalize_grayscale(rgb2gray(X_test_web_img))\n",
    "print(X_test_web_img_pp.shape)\n",
    "\n",
    "### Visualize these images after pre-process\n",
    "for nb in range(X_test_web_img_pp.shape[0]):\n",
    "    visu_gray(X_test_web_img_pp[nb,...])\n",
    "    \n",
    "y_test_web_img = [38, 34, 18, 25, 3]"
   ]
  },
  {
   "cell_type": "markdown",
   "metadata": {},
   "source": [
    "### Analyze Performance"
   ]
  },
  {
   "cell_type": "code",
   "execution_count": 13,
   "metadata": {},
   "outputs": [
    {
     "name": "stdout",
     "output_type": "stream",
     "text": [
      "INFO:tensorflow:Restoring parameters from ./lenet\n",
      "Test web images Accuracy = 1.000\n",
      "\n"
     ]
    }
   ],
   "source": [
    "### Calculate the accuracy for these 5 new images. \n",
    "### For example, if the model predicted 1 out of 5 signs correctly, it's 20% accurate on these new images.\n",
    "\n",
    "with tf.Session() as sess:\n",
    "    sess.run(tf.global_variables_initializer())\n",
    "    saver_load2 = tf.train.import_meta_graph('./lenet.meta')\n",
    "    saver_load2.restore(sess, \"./lenet\")\n",
    "    test_web_images_accuracy = evaluate(X_test_web_img_pp, y_test_web_img)\n",
    "    print(\"Test web images Accuracy = {:.3f}\".format(test_web_images_accuracy))\n",
    "    print()\n",
    "    "
   ]
  },
  {
   "cell_type": "markdown",
   "metadata": {},
   "source": [
    "### Output Top 5 Softmax Probabilities For Each Image Found on the Web"
   ]
  },
  {
   "cell_type": "markdown",
   "metadata": {},
   "source": [
    "For each of the new images, print out the model's softmax probabilities to show the **certainty** of the model's predictions (limit the output to the top 5 probabilities for each image). [`tf.nn.top_k`](https://www.tensorflow.org/versions/r0.12/api_docs/python/nn.html#top_k) could prove helpful here. \n",
    "\n",
    "The example below demonstrates how tf.nn.top_k can be used to find the top k predictions for each image.\n",
    "\n",
    "`tf.nn.top_k` will return the values and indices (class ids) of the top k predictions. So if k=3, for each sign, it'll return the 3 largest probabilities (out of a possible 43) and the correspoding class ids.\n",
    "\n",
    "Take this numpy array as an example. The values in the array represent predictions. The array contains softmax probabilities for five candidate images with six possible classes. `tf.nn.top_k` is used to choose the three classes with the highest probability:\n",
    "\n",
    "```\n",
    "# (5, 6) array\n",
    "a = np.array([[ 0.24879643,  0.07032244,  0.12641572,  0.34763842,  0.07893497,\n",
    "         0.12789202],\n",
    "       [ 0.28086119,  0.27569815,  0.08594638,  0.0178669 ,  0.18063401,\n",
    "         0.15899337],\n",
    "       [ 0.26076848,  0.23664738,  0.08020603,  0.07001922,  0.1134371 ,\n",
    "         0.23892179],\n",
    "       [ 0.11943333,  0.29198961,  0.02605103,  0.26234032,  0.1351348 ,\n",
    "         0.16505091],\n",
    "       [ 0.09561176,  0.34396535,  0.0643941 ,  0.16240774,  0.24206137,\n",
    "         0.09155967]])\n",
    "```\n",
    "\n",
    "Running it through `sess.run(tf.nn.top_k(tf.constant(a), k=3))` produces:\n",
    "\n",
    "```\n",
    "TopKV2(values=array([[ 0.34763842,  0.24879643,  0.12789202],\n",
    "       [ 0.28086119,  0.27569815,  0.18063401],\n",
    "       [ 0.26076848,  0.23892179,  0.23664738],\n",
    "       [ 0.29198961,  0.26234032,  0.16505091],\n",
    "       [ 0.34396535,  0.24206137,  0.16240774]]), indices=array([[3, 0, 5],\n",
    "       [0, 1, 4],\n",
    "       [0, 5, 1],\n",
    "       [1, 3, 5],\n",
    "       [1, 4, 3]], dtype=int32))\n",
    "```\n",
    "\n",
    "Looking just at the first row we get `[ 0.34763842,  0.24879643,  0.12789202]`, you can confirm these are the 3 largest probabilities in `a`. You'll also notice `[3, 0, 5]` are the corresponding indices."
   ]
  },
  {
   "cell_type": "code",
   "execution_count": 14,
   "metadata": {},
   "outputs": [
    {
     "name": "stdout",
     "output_type": "stream",
     "text": [
      "INFO:tensorflow:Restoring parameters from ./lenet\n",
      "[[  0.00000000e+00   0.00000000e+00   0.00000000e+00   0.00000000e+00\n",
      "    0.00000000e+00   0.00000000e+00   0.00000000e+00   0.00000000e+00\n",
      "    0.00000000e+00   0.00000000e+00   0.00000000e+00   0.00000000e+00\n",
      "    0.00000000e+00   1.01266829e-37   0.00000000e+00   0.00000000e+00\n",
      "    0.00000000e+00   5.34431963e-35   0.00000000e+00   0.00000000e+00\n",
      "    0.00000000e+00   0.00000000e+00   0.00000000e+00   0.00000000e+00\n",
      "    0.00000000e+00   1.22026303e-37   0.00000000e+00   0.00000000e+00\n",
      "    0.00000000e+00   0.00000000e+00   0.00000000e+00   0.00000000e+00\n",
      "    0.00000000e+00   0.00000000e+00   1.27277814e-25   0.00000000e+00\n",
      "    0.00000000e+00   0.00000000e+00   1.00000000e+00   0.00000000e+00\n",
      "    0.00000000e+00   0.00000000e+00   0.00000000e+00]\n",
      " [  8.18090397e-04   2.99270288e-03   2.08504265e-03   6.84785619e-02\n",
      "    8.05327203e-04   3.14305513e-03   1.93953587e-04   2.68531112e-05\n",
      "    7.10622524e-04   1.95758347e-03   9.81353340e-04   3.93430644e-04\n",
      "    1.06184399e-02   1.32244118e-02   1.27330376e-02   7.73243932e-03\n",
      "    8.53734455e-05   2.22409400e-03   2.58723798e-04   2.14095242e-04\n",
      "    2.60364870e-03   9.17896105e-05   4.87029739e-03   2.28063785e-03\n",
      "    1.17159107e-04   1.38034727e-02   5.62297239e-04   1.00756279e-06\n",
      "    3.97948362e-03   2.14934014e-02   5.26633579e-03   5.11297781e-04\n",
      "    1.73031520e-02   8.77311802e-04   4.94077265e-01   2.96617858e-02\n",
      "    5.52431494e-03   5.60096705e-05   2.65402138e-01   3.82804610e-05\n",
      "    1.58315944e-03   1.97015994e-04   2.14543579e-05]\n",
      " [  2.90716019e-20   1.76192795e-15   3.55240205e-27   1.39836911e-30\n",
      "    6.32234791e-25   3.31765083e-27   1.72073567e-26   1.55215993e-35\n",
      "    5.46517475e-32   5.61428177e-30   1.13193771e-29   1.01296514e-13\n",
      "    1.07219264e-20   5.78761990e-29   4.85719908e-30   0.00000000e+00\n",
      "    1.56032885e-35   3.42681317e-30   9.99994755e-01   9.25311655e-27\n",
      "    1.66866981e-14   1.46100750e-22   2.53051908e-28   4.49119458e-24\n",
      "    1.22225621e-13   1.18170721e-15   5.25890528e-06   1.38871243e-08\n",
      "    2.90983693e-18   2.89072818e-19   1.05127870e-19   7.92792146e-23\n",
      "    2.73087064e-33   1.39247714e-29   9.42000021e-29   8.25636266e-36\n",
      "    6.40810843e-25   2.96943633e-18   1.30726913e-20   5.56784614e-24\n",
      "    3.31226651e-18   2.88311928e-26   1.72115412e-28]\n",
      " [  3.47908508e-10   2.81752591e-07   3.45403305e-06   7.33150864e-06\n",
      "    1.58884284e-09   1.00700106e-06   2.10058208e-14   1.39935025e-11\n",
      "    2.42626474e-10   3.91911250e-08   3.42281128e-05   1.68760642e-04\n",
      "    6.30990553e-06   6.17489135e-08   2.48504356e-10   1.62911438e-12\n",
      "    6.41608711e-11   1.46268364e-09   1.03207567e-04   4.79946466e-05\n",
      "    1.03325699e-03   1.91836400e-04   3.04935127e-02   5.22001763e-04\n",
      "    1.05368686e-04   9.44409072e-01   1.63120261e-04   4.06225126e-07\n",
      "    2.03731124e-05   2.04533059e-02   2.20477450e-04   2.00498663e-03\n",
      "    5.53054789e-15   1.34906190e-06   9.01019405e-07   3.75344598e-06\n",
      "    1.22996710e-07   5.19332772e-08   2.12990798e-07   1.66165808e-06\n",
      "    1.54119141e-06   2.21328706e-12   1.38029269e-12]\n",
      " [  5.35560738e-14   2.03677839e-08   1.94705208e-05   9.99141216e-01\n",
      "    4.60427790e-12   8.38025881e-04   1.85785873e-10   1.78321854e-11\n",
      "    2.56895389e-13   8.24143531e-10   5.22844879e-08   5.03024011e-12\n",
      "    4.03684614e-10   2.70274428e-11   9.75643042e-15   5.40616900e-12\n",
      "    2.44674609e-08   6.77852344e-17   3.56819194e-16   4.51479479e-11\n",
      "    1.72158121e-10   5.93291353e-14   1.10972605e-16   5.05778974e-10\n",
      "    5.45047142e-20   1.60694995e-07   1.55986111e-18   2.75054290e-22\n",
      "    5.01407119e-12   3.07652723e-11   7.73119524e-13   1.31341422e-11\n",
      "    6.26743102e-11   3.25344488e-13   1.05866482e-10   1.02530487e-06\n",
      "    3.22654292e-10   1.37913769e-14   6.64992728e-09   3.84977030e-16\n",
      "    1.08775792e-12   9.62422890e-14   3.98331992e-11]]\n",
      "TopKV2(values=array([[  1.00000000e+00,   1.27277814e-25,   5.34431963e-35],\n",
      "       [  4.94077265e-01,   2.65402138e-01,   6.84785619e-02],\n",
      "       [  9.99994755e-01,   5.25890528e-06,   1.38871243e-08],\n",
      "       [  9.44409072e-01,   3.04935127e-02,   2.04533059e-02],\n",
      "       [  9.99141216e-01,   8.38025881e-04,   1.94705208e-05]], dtype=float32), indices=array([[38, 34, 17],\n",
      "       [34, 38,  3],\n",
      "       [18, 26, 27],\n",
      "       [25, 22, 29],\n",
      "       [ 3,  5,  2]]))\n"
     ]
    }
   ],
   "source": [
    "### Print out the top five softmax probabilities for the predictions on the German traffic sign images found on the web. \n",
    "### Feel free to use as many code cells as needed.\n",
    "\n",
    "a = tf.nn.softmax(logits)\n",
    "\n",
    "with tf.Session() as sess:\n",
    "    sess.run(tf.global_variables_initializer())\n",
    "    saver_load2 = tf.train.import_meta_graph('./lenet.meta')\n",
    "    saver_load2.restore(sess, \"./lenet\")\n",
    "    softmax_web_images = sess.run(a, feed_dict={x:X_test_web_img_pp, keep_prob: 1.0})\n",
    "    top_k_web_images = sess.run(tf.nn.top_k(a, k=3), feed_dict={x: X_test_web_img_pp, keep_prob: 1.0})\n",
    "    \n",
    "    print(softmax_web_images)\n",
    "    print(top_k_web_images)"
   ]
  },
  {
   "cell_type": "markdown",
   "metadata": {},
   "source": [
    "### Project Writeup\n",
    "\n",
    "Once you have completed the code implementation, document your results in a project writeup using this [template](https://github.com/udacity/CarND-Traffic-Sign-Classifier-Project/blob/master/writeup_template.md) as a guide. The writeup can be in a markdown or pdf file. "
   ]
  },
  {
   "cell_type": "markdown",
   "metadata": {},
   "source": [
    "> **Note**: Once you have completed all of the code implementations and successfully answered each question above, you may finalize your work by exporting the iPython Notebook as an HTML document. You can do this by using the menu above and navigating to  \\n\",\n",
    "    \"**File -> Download as -> HTML (.html)**. Include the finished document along with this notebook as your submission."
   ]
  },
  {
   "cell_type": "markdown",
   "metadata": {},
   "source": [
    "---\n",
    "\n",
    "## Step 4 (Optional): Visualize the Neural Network's State with Test Images\n",
    "\n",
    " This Section is not required to complete but acts as an additional excersise for understaning the output of a neural network's weights. While neural networks can be a great learning device they are often referred to as a black box. We can understand what the weights of a neural network look like better by plotting their feature maps. After successfully training your neural network you can see what it's feature maps look like by plotting the output of the network's weight layers in response to a test stimuli image. From these plotted feature maps, it's possible to see what characteristics of an image the network finds interesting. For a sign, maybe the inner network feature maps react with high activation to the sign's boundary outline or to the contrast in the sign's painted symbol.\n",
    "\n",
    " Provided for you below is the function code that allows you to get the visualization output of any tensorflow weight layer you want. The inputs to the function should be a stimuli image, one used during training or a new one you provided, and then the tensorflow variable name that represents the layer's state during the training process, for instance if you wanted to see what the [LeNet lab's](https://classroom.udacity.com/nanodegrees/nd013/parts/fbf77062-5703-404e-b60c-95b78b2f3f9e/modules/6df7ae49-c61c-4bb2-a23e-6527e69209ec/lessons/601ae704-1035-4287-8b11-e2c2716217ad/concepts/d4aca031-508f-4e0b-b493-e7b706120f81) feature maps looked like for it's second convolutional layer you could enter conv2 as the tf_activation variable.\n",
    "\n",
    "For an example of what feature map outputs look like, check out NVIDIA's results in their paper [End-to-End Deep Learning for Self-Driving Cars](https://devblogs.nvidia.com/parallelforall/deep-learning-self-driving-cars/) in the section Visualization of internal CNN State. NVIDIA was able to show that their network's inner weights had high activations to road boundary lines by comparing feature maps from an image with a clear path to one without. Try experimenting with a similar test to show that your trained network's weights are looking for interesting features, whether it's looking at differences in feature maps from images with or without a sign, or even what feature maps look like in a trained network vs a completely untrained one on the same sign image.\n",
    "\n",
    "<figure>\n",
    " <img src=\"visualize_cnn.png\" width=\"380\" alt=\"Combined Image\" />\n",
    " <figcaption>\n",
    " <p></p> \n",
    " <p style=\"text-align: center;\"> Your output should look something like this (above)</p> \n",
    " </figcaption>\n",
    "</figure>\n",
    " <p></p> \n"
   ]
  },
  {
   "cell_type": "code",
   "execution_count": 15,
   "metadata": {
    "collapsed": true
   },
   "outputs": [],
   "source": [
    "### Visualize your network's feature maps here.\n",
    "### Feel free to use as many code cells as needed.\n",
    "\n",
    "# image_input: the test image being fed into the network to produce the feature maps\n",
    "# tf_activation: should be a tf variable name used during your training procedure that represents the calculated state of a specific weight layer\n",
    "# activation_min/max: can be used to view the activation contrast in more detail, by default matplot sets min and max to the actual min and max values of the output\n",
    "# plt_num: used to plot out multiple different weight feature map sets on the same block, just extend the plt number for each new feature map entry\n",
    "\n",
    "def outputFeatureMap(image_input, tf_activation, activation_min=-1, activation_max=-1 ,plt_num=1):\n",
    "    # Here make sure to preprocess your image_input in a way your network expects\n",
    "    # with size, normalization, ect if needed\n",
    "    # image_input =\n",
    "    # Note: x should be the same name as your network's tensorflow data placeholder variable\n",
    "    # If you get an error tf_activation is not defined it may be having trouble accessing the variable from inside a function\n",
    "    activation = tf_activation.eval(session=sess,feed_dict={x : image_input})\n",
    "    featuremaps = activation.shape[3]\n",
    "    plt.figure(plt_num, figsize=(15,15))\n",
    "    for featuremap in range(featuremaps):\n",
    "        plt.subplot(6,8, featuremap+1) # sets the number of feature maps to show on each row and column\n",
    "        plt.title('FeatureMap ' + str(featuremap)) # displays the feature map number\n",
    "        if activation_min != -1 & activation_max != -1:\n",
    "            plt.imshow(activation[0,:,:, featuremap], interpolation=\"nearest\", vmin =activation_min, vmax=activation_max, cmap=\"gray\")\n",
    "        elif activation_max != -1:\n",
    "            plt.imshow(activation[0,:,:, featuremap], interpolation=\"nearest\", vmax=activation_max, cmap=\"gray\")\n",
    "        elif activation_min !=-1:\n",
    "            plt.imshow(activation[0,:,:, featuremap], interpolation=\"nearest\", vmin=activation_min, cmap=\"gray\")\n",
    "        else:\n",
    "            plt.imshow(activation[0,:,:, featuremap], interpolation=\"nearest\", cmap=\"gray\")"
   ]
  }
 ],
 "metadata": {
  "anaconda-cloud": {},
  "kernelspec": {
   "display_name": "Python [default]",
   "language": "python",
   "name": "python3"
  },
  "language_info": {
   "codemirror_mode": {
    "name": "ipython",
    "version": 3
   },
   "file_extension": ".py",
   "mimetype": "text/x-python",
   "name": "python",
   "nbconvert_exporter": "python",
   "pygments_lexer": "ipython3",
   "version": "3.6.3"
  }
 },
 "nbformat": 4,
 "nbformat_minor": 1
}
